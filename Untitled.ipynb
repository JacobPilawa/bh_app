{
 "cells": [
  {
   "cell_type": "code",
   "execution_count": 3,
   "id": "d4749fdb-7966-402a-9e42-230aa9a1fdfb",
   "metadata": {},
   "outputs": [],
   "source": [
    "import numpy as np"
   ]
  },
  {
   "cell_type": "code",
   "execution_count": 12,
   "id": "7dacd575-10ac-4111-838d-87e1b0ebd23c",
   "metadata": {},
   "outputs": [],
   "source": [
    "vals = np.array([2.02,\n",
    "8.98,\n",
    "3.28,\n",
    "2.91,\n",
    "19.05,\n",
    "1.40,\n",
    "1.70,\n",
    "8.63,\n",
    "2.44,\n",
    "5.34,\n",
    "4.73,\n",
    "20.17,\n",
    "0.35,\n",
    "2.26])*1e9"
   ]
  },
  {
   "cell_type": "code",
   "execution_count": 13,
   "id": "ffb35f38-c26e-4e51-ab10-36a8092a888f",
   "metadata": {},
   "outputs": [
    {
     "name": "stdout",
     "output_type": "stream",
     "text": [
      "9.31\n",
      "9.95\n",
      "9.52\n",
      "9.46\n",
      "10.28\n",
      "9.15\n",
      "9.23\n",
      "9.94\n",
      "9.39\n",
      "9.73\n",
      "9.67\n",
      "10.3\n",
      "8.54\n",
      "9.35\n"
     ]
    }
   ],
   "source": [
    "for val in vals:\n",
    "    print(np.round(np.log10(val),2))"
   ]
  },
  {
   "cell_type": "code",
   "execution_count": null,
   "id": "03a2a6a8-94dc-4ebf-98bc-7fac2cbb108d",
   "metadata": {},
   "outputs": [],
   "source": [
    "341\n",
    "219\n",
    "215\n",
    "272\n",
    "293\n",
    "262\n",
    "296\n",
    "231\n",
    "258"
   ]
  },
  {
   "cell_type": "code",
   "execution_count": 17,
   "id": "6dca94df-f6fd-4c0e-b632-e8984a5d5c1c",
   "metadata": {},
   "outputs": [],
   "source": [
    "vals = np.array([\n",
    "341, \n",
    "219, \n",
    "215, \n",
    "272, \n",
    "293, \n",
    "262, \n",
    "296, \n",
    "231, \n",
    "258, \n",
    "375,\n",
    "385,\n",
    "337, \n",
    "266,\n",
    "277\n",
    "])"
   ]
  },
  {
   "cell_type": "code",
   "execution_count": 18,
   "id": "cbf7c173-f99c-4666-a563-3a79e6cd0766",
   "metadata": {},
   "outputs": [
    {
     "name": "stdout",
     "output_type": "stream",
     "text": [
      "2.53\n",
      "2.34\n",
      "2.33\n",
      "2.43\n",
      "2.47\n",
      "2.42\n",
      "2.47\n",
      "2.36\n",
      "2.41\n",
      "2.57\n",
      "2.59\n",
      "2.53\n",
      "2.42\n",
      "2.44\n"
     ]
    }
   ],
   "source": [
    "for val in vals:\n",
    "    print(np.round(np.log10(val),2))"
   ]
  },
  {
   "cell_type": "code",
   "execution_count": 19,
   "id": "7ae69202-9480-4ca5-9256-e6f6c20fbcc1",
   "metadata": {},
   "outputs": [
    {
     "data": {
      "text/plain": [
       "14"
      ]
     },
     "execution_count": 19,
     "metadata": {},
     "output_type": "execute_result"
    }
   ],
   "source": [
    "len(vals)"
   ]
  },
  {
   "cell_type": "code",
   "execution_count": null,
   "id": "0fa8b420-48c8-4f75-84e8-5d3459a6390f",
   "metadata": {},
   "outputs": [],
   "source": []
  }
 ],
 "metadata": {
  "kernelspec": {
   "display_name": "Python 3 (ipykernel)",
   "language": "python",
   "name": "python3"
  },
  "language_info": {
   "codemirror_mode": {
    "name": "ipython",
    "version": 3
   },
   "file_extension": ".py",
   "mimetype": "text/x-python",
   "name": "python",
   "nbconvert_exporter": "python",
   "pygments_lexer": "ipython3",
   "version": "3.11.0"
  }
 },
 "nbformat": 4,
 "nbformat_minor": 5
}
