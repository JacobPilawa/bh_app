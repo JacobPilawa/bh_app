{
 "cells": [
  {
   "cell_type": "code",
   "execution_count": 20,
   "id": "5e882276-5d3c-45ad-b61a-ac3874d7c419",
   "metadata": {},
   "outputs": [],
   "source": [
    "import pandas as pd\n",
    "import numpy as np\n",
    "import matplotlib.pyplot as plt"
   ]
  },
  {
   "cell_type": "code",
   "execution_count": 26,
   "id": "37e1dbcd-5f0a-482c-b11f-e3629c2ade2b",
   "metadata": {},
   "outputs": [],
   "source": [
    "def read_data():\n",
    "\n",
    "    # Define the column widths based on the byte ranges\n",
    "    colspecs = [(0, 12), (13, 14), (15, 20), (21, 25), (26, 31), \n",
    "                (32, 36), (37, 41), (42, 46), (47, 51), (52, 57), \n",
    "                (58, 62), (63, 68), (69, 73), (74, 78), (79, 83), \n",
    "                (84, 87), (88, 93), (94, 98), (99, 105), (106, 114)]\n",
    "    \n",
    "    # Define the column names\n",
    "    column_names = [\n",
    "        \"Name\", \"f_Name\", \"Dist\", \"e_Dist\", \"BHMass\", \n",
    "        \"E_BHMass\", \"e_BHMass\", \"sigma\", \"e_sigma\", \"logLk\", \n",
    "        \"e_logLk\", \"Re\", \"e_Re\", \"covar\", \"C28\", \n",
    "        \"e_C28\", \"AGN\", \"e_AGN\", \"method\", \"Refs\"\n",
    "    ]\n",
    "    \n",
    "    # Read the file using pandas.read_fwf\n",
    "    df = pd.read_fwf('tabledata.txt', colspecs=colspecs, header=None, names=column_names, na_values='?',skiprows=136)\n",
    "\n",
    "    return df"
   ]
  },
  {
   "cell_type": "code",
   "execution_count": 27,
   "id": "0709fd44-ed47-4f3d-8644-5603fd8e251b",
   "metadata": {},
   "outputs": [],
   "source": [
    "data = read_data()"
   ]
  },
  {
   "cell_type": "code",
   "execution_count": 30,
   "id": "a590340f-ad52-4a6f-b7fa-d0417185cf58",
   "metadata": {},
   "outputs": [
    {
     "name": "stdout",
     "output_type": "stream",
     "text": [
      "       Name  f_Name   Dist  e_Dist  BHMass  E_BHMass  e_BHMass  sigma  \\\n",
      "0     3C120     NaN  141.4    14.1    7.73      0.15      0.15   2.21   \n",
      "1   3C390.3     NaN  240.3    24.0    8.62      0.16      0.16   2.44   \n",
      "2  A1836BCG     NaN  152.4     8.4    9.57      0.06      0.06   2.46   \n",
      "3  A3565BCG     NaN   49.2     3.6    9.11      0.07      0.07   2.51   \n",
      "4    Ark120     NaN  140.1    14.0    8.05      0.17      0.17   2.28   \n",
      "\n",
      "   e_sigma  logLk  e_logLk    Re  e_Re  covar  C28  e_C28    AGN  e_AGN  \\\n",
      "0     0.05  11.20     0.09  1.00  0.06   0.05  3.8    0.2  11.39   0.00   \n",
      "1     0.03  11.25     0.10  0.64  0.09   0.14  3.9    0.8  11.26   0.04   \n",
      "2     0.02  11.75     0.06  0.89  0.06   0.04  4.9    0.5    NaN    NaN   \n",
      "3     0.02  11.83     0.07  0.98  0.06   0.04  5.3    0.2    NaN    NaN   \n",
      "4     0.02  11.20     0.09  0.74  0.07   0.05  3.9    0.4  11.53   0.00   \n",
      "\n",
      "   method Refs  \n",
      "0  reverb   45  \n",
      "1  reverb   26  \n",
      "2     gas   19  \n",
      "3     gas   19  \n",
      "4  reverb   27  \n"
     ]
    }
   ],
   "source": [
    "print(data.head())"
   ]
  },
  {
   "cell_type": "code",
   "execution_count": null,
   "id": "9e0356c6-e315-4603-9357-4bacd682e7c4",
   "metadata": {},
   "outputs": [],
   "source": []
  }
 ],
 "metadata": {
  "kernelspec": {
   "display_name": "Python 3 (ipykernel)",
   "language": "python",
   "name": "python3"
  },
  "language_info": {
   "codemirror_mode": {
    "name": "ipython",
    "version": 3
   },
   "file_extension": ".py",
   "mimetype": "text/x-python",
   "name": "python",
   "nbconvert_exporter": "python",
   "pygments_lexer": "ipython3",
   "version": "3.11.0"
  }
 },
 "nbformat": 4,
 "nbformat_minor": 5
}
